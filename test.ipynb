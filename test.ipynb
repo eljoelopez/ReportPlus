{
 "cells": [
  {
   "cell_type": "markdown",
   "metadata": {},
   "source": [
    "# Title\n",
    "\n",
    "## Subtitle\n",
    "\n",
    "Lorem Ipsum is simply dummy text of the printing and typesetting\n",
    "industry. Lorem Ipsum has been the industry’s standard dummy text ever\n",
    "since the 1500s, when an unknown printer took a galley of type and\n",
    "scrambled it to make a type specimen book. It has survived not only five\n",
    "centuries, but also the leap into electronic typesetting, remaining\n",
    "essentially unchanged. It was popularised in the 1960s with the release\n",
    "of Letraset sheets containing Lorem Ipsum passages, and more recently\n",
    "with desktop publishing software like Aldus PageMaker including versions\n",
    "of Lorem Ipsum."
   ],
   "id": "7e5a8ada-ea6c-4633-9f72-de0b8e35dd14"
  },
  {
   "cell_type": "code",
   "execution_count": null,
   "metadata": {},
   "outputs": [],
   "source": [
    "import os\n",
    "print(\"Hello World\")"
   ],
   "id": "2b054810-ad86-4aaf-85d3-b20b5f9b27c0"
  }
 ],
 "nbformat": 4,
 "nbformat_minor": 5,
 "metadata": {}
}
