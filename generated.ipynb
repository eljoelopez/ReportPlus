{
 "cells": [
  {
   "cell_type": "code",
   "execution_count": null,
   "metadata": {},
   "outputs": [],
   "source": [
    "%pip install specklepy\n",
    "%pip install pandas\n",
    "from specklepy.objects import Base\n",
    "from specklepy.api.client import SpeckleClient\n",
    "from specklepy.api.wrapper import StreamWrapper\n",
    "from specklepy.api.credentials import get_default_account\n",
    "from specklepy.transports.server import ServerTransport\n",
    "from specklepy.api import operations\n",
    "import pandas as pd"
   ],
   "id": "e61e28c5-c598-46a9-9c60-1cd8fe6aef7b"
  },
  {
   "cell_type": "code",
   "execution_count": null,
   "metadata": {},
   "outputs": [],
   "source": [
    "wrapper = StreamWrapper(\"https://speckle.xyz/streams/f8fdca34e8/commits/415b381d6c\")\n",
    "client = wrapper.get_client(\"743d2df1ec7e610a0a3adb9b2167414542c18ca328\")\n",
    "transport = wrapper.get_transport()"
   ],
   "id": "8d3eee44-3a59-4232-936a-24232fb2e34b"
  },
  {
   "cell_type": "code",
   "execution_count": null,
   "metadata": {},
   "outputs": [],
   "source": [
    "def get_data_frame(base:Base):\n",
    "    id = []\n",
    "    name = []\n",
    "    volume = []\n",
    "    area = []\n",
    "\n",
    "    for e in base.elements:\n",
    "        id.append(e.id)\n",
    "        name.append(e.speckleType.split(\".\")[-1])\n",
    "        volume.append(e.volume)\n",
    "        area.append(e.area)\n",
    "\n",
    "    data = {\n",
    "        \"id\" : id,\n",
    "        \"Name\" : name,\n",
    "        \"Volume\" : volume,\n",
    "        \"Area\" : area\n",
    "    }\n",
    "\n",
    "    return pd.DataFrame(data=data)"
   ],
   "id": "4106bbf7-c23f-44ab-abbf-1051e928563c"
  },
  {
   "cell_type": "markdown",
   "metadata": {},
   "source": [
    "# A cool Demo Project\n",
    "\n",
    "**Povl Filip Sonne-Frederiksen** *(03/02/2024 21:55:50)*\n",
    "\n",
    "LINK Arkitektur\n",
    "\n",
    "Welcome to this fancy model.\n",
    "\n",
    "## Report\n",
    "\n",
    "<iframe id=\"iframe\" src=\"https://speckle.xyz/embed?stream=f8fdca34e8&amp;commit=415b381d6c&amp;overlay=87b8c5736a&amp;transparent=true&amp;autoload=true&amp;hidecontrols=true&amp;hidesidebar=true\" width=\"600\" height=\"400\" frameborder=\"0\">\n",
    "</iframe>\n",
    "\n",
    "<h4>\n",
    "Content\n",
    "</h4>\n",
    "<p>\n",
    "Lorem ipsum dolor sit amet, consectetur adipiscing elit, sed do eiusmod\n",
    "tempor incididunt ut labore et dolore magna aliqua. Eget nullam non nisi\n",
    "est. Lectus nulla at volutpat diam ut. Id nibh tortor id aliquet lectus\n",
    "proin nibh nisl condimentum. Egestas integer eget aliquet nibh praesent.\n",
    "Duis at consectetur lorem donec massa sapien. Accumsan tortor posuere ac\n",
    "ut consequat semper viverra nam. Tincidunt tortor aliquam nulla facilisi\n",
    "cras fermentum odio eu feugiat. Fermentum leo vel orci porta non\n",
    "pulvinar. Egestas sed sed risus pretium. Laoreet id donec ultrices\n",
    "tincidunt. Etiam dignissim diam quis enim lobortis. Ut porttitor leo a\n",
    "diam. Eget nunc scelerisque viverra mauris in aliquam. Est lorem ipsum\n",
    "dolor sit amet consectetur. Ornare suspendisse sed nisi lacus sed\n",
    "viverra tellus in. Ac turpis egestas integer eget. Felis donec et odio\n",
    "pellentesque diam volutpat commodo sed egestas. Urna neque viverra justo\n",
    "nec ultrices. Blandit turpis cursus in hac habitasse.\n",
    "</p>\n",
    "\n",
    "### Enclosing Bubbles\n",
    "\n",
    "<iframe src=\"https://speckle.xyz/embed?stream=f8fdca34e8&amp;object=579f5fddca97878e525f2adf11277d9e&amp;transparent=true&amp;autoload=true&amp;hidecontrols=true&amp;hidesidebar=true\" width=\"600\" height=\"400\" frameborder=\"0\">\n",
    "</iframe>"
   ],
   "id": "517a96a5-f062-4023-a8ff-692d189cf2af"
  },
  {
   "cell_type": "code",
   "execution_count": null,
   "metadata": {},
   "outputs": [],
   "source": [
    "get_data_frame(operations.receive(obj_id='579f5fddca97878e525f2adf11277d9e', remote_transport=transport))"
   ],
   "id": "db332801-3299-4d4e-a4af-0c9f41edecd4"
  },
  {
   "cell_type": "markdown",
   "metadata": {},
   "source": [
    "### Slabs And Steps\n",
    "\n",
    "<iframe src=\"https://speckle.xyz/embed?stream=f8fdca34e8&amp;object=cc9cc5550310e8f13819d6964674ebfe&amp;transparent=true&amp;autoload=true&amp;hidecontrols=true&amp;hidesidebar=true\" width=\"600\" height=\"400\" frameborder=\"0\">\n",
    "</iframe>"
   ],
   "id": "81425dea-79ee-4804-b0ff-ede9bb7a9716"
  },
  {
   "cell_type": "code",
   "execution_count": null,
   "metadata": {},
   "outputs": [],
   "source": [
    "get_data_frame(operations.receive(obj_id='cc9cc5550310e8f13819d6964674ebfe', remote_transport=transport))"
   ],
   "id": "b6e96490-e985-4425-8092-e60c2273faba"
  },
  {
   "cell_type": "markdown",
   "metadata": {},
   "source": [
    "### Structural Columns\n",
    "\n",
    "<iframe src=\"https://speckle.xyz/embed?stream=f8fdca34e8&amp;object=84b8986d1e931136de2cfbd085375158&amp;transparent=true&amp;autoload=true&amp;hidecontrols=true&amp;hidesidebar=true\" width=\"600\" height=\"400\" frameborder=\"0\">\n",
    "</iframe>"
   ],
   "id": "a602fdd1-e64a-4b46-95e8-ce27a21c28c1"
  },
  {
   "cell_type": "code",
   "execution_count": null,
   "metadata": {},
   "outputs": [],
   "source": [
    "get_data_frame(operations.receive(obj_id='84b8986d1e931136de2cfbd085375158', remote_transport=transport))"
   ],
   "id": "91c2184d-322b-46bd-8f1b-b65489358218"
  },
  {
   "cell_type": "markdown",
   "metadata": {},
   "source": [
    "### Building Base\n",
    "\n",
    "<iframe src=\"https://speckle.xyz/embed?stream=f8fdca34e8&amp;object=fe7b8733254f25544e5d3b674f26846e&amp;transparent=true&amp;autoload=true&amp;hidecontrols=true&amp;hidesidebar=true\" width=\"600\" height=\"400\" frameborder=\"0\">\n",
    "</iframe>"
   ],
   "id": "93c367d4-5650-492d-944b-569272fd0a6a"
  },
  {
   "cell_type": "code",
   "execution_count": null,
   "metadata": {},
   "outputs": [],
   "source": [
    "get_data_frame(operations.receive(obj_id='fe7b8733254f25544e5d3b674f26846e', remote_transport=transport))"
   ],
   "id": "aab3b1de-5462-4143-8bf4-1a75b7978e0b"
  },
  {
   "cell_type": "markdown",
   "metadata": {},
   "source": [
    "### Escalators\n",
    "\n",
    "<iframe src=\"https://speckle.xyz/embed?stream=f8fdca34e8&amp;object=0faa4efb5f3890661972a46c0c2713b4&amp;transparent=true&amp;autoload=true&amp;hidecontrols=true&amp;hidesidebar=true\" width=\"600\" height=\"400\" frameborder=\"0\">\n",
    "</iframe>"
   ],
   "id": "dffd64e9-1577-452d-828b-cb11c0a72076"
  },
  {
   "cell_type": "code",
   "execution_count": null,
   "metadata": {},
   "outputs": [],
   "source": [
    "get_data_frame(operations.receive(obj_id='0faa4efb5f3890661972a46c0c2713b4', remote_transport=transport))"
   ],
   "id": "1016ad03-2fe3-426a-b8ad-f436c95ef297"
  },
  {
   "cell_type": "markdown",
   "metadata": {},
   "source": [
    "### Railings\n",
    "\n",
    "<iframe src=\"https://speckle.xyz/embed?stream=f8fdca34e8&amp;object=968b2ad2937bcfdcbd140dd54122c042&amp;transparent=true&amp;autoload=true&amp;hidecontrols=true&amp;hidesidebar=true\" width=\"600\" height=\"400\" frameborder=\"0\">\n",
    "</iframe>"
   ],
   "id": "91c5cd90-026f-4250-923a-963d7b08fed1"
  },
  {
   "cell_type": "code",
   "execution_count": null,
   "metadata": {},
   "outputs": [],
   "source": [
    "get_data_frame(operations.receive(obj_id='968b2ad2937bcfdcbd140dd54122c042', remote_transport=transport))"
   ],
   "id": "6fc6bb7c-d20c-4653-9fcc-ca0723c9a6cd"
  }
 ],
 "nbformat": 4,
 "nbformat_minor": 5,
 "metadata": {
  "kernelspec": {
   "name": "python2",
   "display_name": "Python 2",
   "language": "python"
  },
  "language_info": {
   "name": "python",
   "codemirror_mode": {
    "name": "ipython",
    "version": "2"
   },
   "file_extension": ".py",
   "mimetype": "text/x-python",
   "nbconvert_exporter": "python",
   "pygments_lexer": "ipython2",
   "version": "2.7.15"
  }
 }
}
