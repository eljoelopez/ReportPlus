{
 "cells": [
  {
   "cell_type": "code",
   "execution_count": null,
   "metadata": {},
   "outputs": [],
   "source": [
    "%pip install specklepy\n",
    "%pip install pandas\n",
    "from specklepy.objects import Base\n",
    "from specklepy.api.client import SpeckleClient\n",
    "from specklepy.api.wrapper import StreamWrapper\n",
    "from specklepy.api.credentials import get_default_account\n",
    "from specklepy.transports.server import ServerTransport\n",
    "from specklepy.api import operations\n",
    "import pandas as pd"
   ],
   "id": "9603a831-668b-41e6-9ed0-ed6605b81343"
  },
  {
   "cell_type": "code",
   "execution_count": null,
   "metadata": {},
   "outputs": [],
   "source": [
    "wrapper = StreamWrapper(\"https://speckle.xyz/streams/f8fdca34e8/commits/415b381d6c\")\n",
    "client = wrapper.get_client(\"743d2df1ec7e610a0a3adb9b2167414542c18ca328\")\n",
    "transport = wrapper.get_transport()"
   ],
   "id": "e7f7dcac-38a5-4325-a693-60d6b2a1a1d3"
  },
  {
   "cell_type": "code",
   "execution_count": null,
   "metadata": {},
   "outputs": [],
   "source": [
    "def get_data_frame(base:Base):\n",
    "    id = []\n",
    "    name = []\n",
    "    volume = []\n",
    "    area = []\n",
    "\n",
    "    for e in base.elements:\n",
    "        id.append(e.id)\n",
    "        name.append(e.speckleType.split(\".\")[-1])\n",
    "        volume.append(e.volume)\n",
    "        area.append(e.area)\n",
    "\n",
    "    data = {\n",
    "        \"id\" : id,\n",
    "        \"Name\" : name,\n",
    "        \"Volume\" : volume,\n",
    "        \"Area\" : area\n",
    "    }\n",
    "\n",
    "    return pd.DataFrame(data=data)"
   ],
   "id": "0db3db2e-bb13-45ed-ab0f-c06f3cbd77dc"
  },
  {
   "cell_type": "markdown",
   "metadata": {},
   "source": [
    "# A cool Demo Project\n",
    "\n",
    "**Povl Filip Sonne-Frederiksen** *(03/02/2024 21:55:50)*\n",
    "\n",
    "LINK Arkitektur\n",
    "\n",
    "Welcome to this fancy model.\n",
    "\n",
    "## Report\n",
    "\n",
    "<iframe id=\"iframe\" src=\"https://speckle.xyz/embed?stream=f8fdca34e8&amp;commit=415b381d6c&amp;overlay=87b8c5736a&amp;transparent=true&amp;autoload=true&amp;hidecontrols=true&amp;hidesidebar=true\" width=\"600\" height=\"400\" frameborder=\"0\">\n",
    "</iframe>\n",
    "\n",
    "<h4>\n",
    "Content\n",
    "</h4>\n",
    "<p>\n",
    "\n",
    "The rendering shows a section through Zaha Hadid’s Vitra Fire Station.\n",
    "The building is characterized by its dynamic and fluid forms, which are\n",
    "inspired by the surrounding landscape. The use of concrete and glass\n",
    "creates a striking contrast between the building and its natural\n",
    "surroundings. The building is also notable for its sustainable features,\n",
    "such as its use of natural ventilation and rainwater harvesting.\n",
    "\n",
    "Zaha Hadid was a British-Iraqi architect who was known for her\n",
    "innovative and visionary designs. She was one of the most influential\n",
    "architects of her generation, and her work has been widely celebrated.\n",
    "The Vitra Fire Station is one of her most iconic works, and it is a\n",
    "testament to her unique talent and vision.\n",
    "\n",
    "The Vitra Fire Station is located in Weil am Rhein, Germany. It was\n",
    "designed by Zaha Hadid and completed in 1993. The building is part of\n",
    "the Vitra Campus, which is a collection of buildings designed by some of\n",
    "the world’s most famous architects. The Vitra Fire Station is a striking\n",
    "and iconic building that has become a popular tourist destination.\n",
    "\n",
    "The building is made of concrete and glass. It has a dynamic and fluid\n",
    "form that is inspired by the surrounding landscape. The use of concrete\n",
    "and glass creates a striking contrast between the building and its\n",
    "natural surroundings. The building is also notable for its sustainable\n",
    "features, such as its use of natural ventilation and rainwater\n",
    "harvesting.\n",
    "\n",
    "The Vitra Fire Station is a unique and visionary building that is a\n",
    "testament to Zaha Hadid’s talent and creativity. It is a popular tourist\n",
    "destination and a must-see for anyone interested in architecture.\n",
    "</p>\n",
    "\n",
    "### Enclosing Bubbles\n",
    "\n",
    "<iframe src=\"https://speckle.xyz/embed?stream=f8fdca34e8&amp;object=579f5fddca97878e525f2adf11277d9e&amp;transparent=true&amp;autoload=true&amp;hidecontrols=true&amp;hidesidebar=true\" width=\"600\" height=\"400\" frameborder=\"0\">\n",
    "</iframe>"
   ],
   "id": "8077fb62-f9f8-4b2c-addd-0a12d5508f9d"
  },
  {
   "cell_type": "code",
   "execution_count": null,
   "metadata": {},
   "outputs": [],
   "source": [
    "get_data_frame(operations.receive(obj_id='579f5fddca97878e525f2adf11277d9e', remote_transport=transport))"
   ],
   "id": "1bd5916e-cf23-4d0d-9059-401e106013ce"
  },
  {
   "cell_type": "markdown",
   "metadata": {},
   "source": [
    "### Slabs And Steps\n",
    "\n",
    "<iframe src=\"https://speckle.xyz/embed?stream=f8fdca34e8&amp;object=cc9cc5550310e8f13819d6964674ebfe&amp;transparent=true&amp;autoload=true&amp;hidecontrols=true&amp;hidesidebar=true\" width=\"600\" height=\"400\" frameborder=\"0\">\n",
    "</iframe>"
   ],
   "id": "bf08e1bd-18a1-4774-9ea8-50cae0d96f42"
  },
  {
   "cell_type": "code",
   "execution_count": null,
   "metadata": {},
   "outputs": [],
   "source": [
    "get_data_frame(operations.receive(obj_id='cc9cc5550310e8f13819d6964674ebfe', remote_transport=transport))"
   ],
   "id": "9cfbda95-751b-49d4-a2e9-9f3338ffdf7d"
  },
  {
   "cell_type": "markdown",
   "metadata": {},
   "source": [
    "### Structural Columns\n",
    "\n",
    "<iframe src=\"https://speckle.xyz/embed?stream=f8fdca34e8&amp;object=84b8986d1e931136de2cfbd085375158&amp;transparent=true&amp;autoload=true&amp;hidecontrols=true&amp;hidesidebar=true\" width=\"600\" height=\"400\" frameborder=\"0\">\n",
    "</iframe>"
   ],
   "id": "78d3305d-d459-4413-aca6-67f91fee4d1c"
  },
  {
   "cell_type": "code",
   "execution_count": null,
   "metadata": {},
   "outputs": [],
   "source": [
    "get_data_frame(operations.receive(obj_id='84b8986d1e931136de2cfbd085375158', remote_transport=transport))"
   ],
   "id": "0decf414-884b-4d0b-b959-485329e6b117"
  },
  {
   "cell_type": "markdown",
   "metadata": {},
   "source": [
    "### Building Base\n",
    "\n",
    "<iframe src=\"https://speckle.xyz/embed?stream=f8fdca34e8&amp;object=fe7b8733254f25544e5d3b674f26846e&amp;transparent=true&amp;autoload=true&amp;hidecontrols=true&amp;hidesidebar=true\" width=\"600\" height=\"400\" frameborder=\"0\">\n",
    "</iframe>"
   ],
   "id": "6c28aa2a-6dc8-4ddc-98e8-03b13352089f"
  },
  {
   "cell_type": "code",
   "execution_count": null,
   "metadata": {},
   "outputs": [],
   "source": [
    "get_data_frame(operations.receive(obj_id='fe7b8733254f25544e5d3b674f26846e', remote_transport=transport))"
   ],
   "id": "f3edcf5c-390e-4a2a-80b2-0f6a9aba46ed"
  },
  {
   "cell_type": "markdown",
   "metadata": {},
   "source": [
    "### Escalators\n",
    "\n",
    "<iframe src=\"https://speckle.xyz/embed?stream=f8fdca34e8&amp;object=0faa4efb5f3890661972a46c0c2713b4&amp;transparent=true&amp;autoload=true&amp;hidecontrols=true&amp;hidesidebar=true\" width=\"600\" height=\"400\" frameborder=\"0\">\n",
    "</iframe>"
   ],
   "id": "c9facc88-fa06-4906-aa8a-92f30c7fe94c"
  },
  {
   "cell_type": "code",
   "execution_count": null,
   "metadata": {},
   "outputs": [],
   "source": [
    "get_data_frame(operations.receive(obj_id='0faa4efb5f3890661972a46c0c2713b4', remote_transport=transport))"
   ],
   "id": "ffbc0b06-04f5-4dea-aab9-a03f4e8b0ef7"
  },
  {
   "cell_type": "markdown",
   "metadata": {},
   "source": [
    "### Railings\n",
    "\n",
    "<iframe src=\"https://speckle.xyz/embed?stream=f8fdca34e8&amp;object=968b2ad2937bcfdcbd140dd54122c042&amp;transparent=true&amp;autoload=true&amp;hidecontrols=true&amp;hidesidebar=true\" width=\"600\" height=\"400\" frameborder=\"0\">\n",
    "</iframe>"
   ],
   "id": "f9896f6f-16e2-4f4f-ad8f-f1edd765ed60"
  },
  {
   "cell_type": "code",
   "execution_count": null,
   "metadata": {},
   "outputs": [],
   "source": [
    "get_data_frame(operations.receive(obj_id='968b2ad2937bcfdcbd140dd54122c042', remote_transport=transport))"
   ],
   "id": "03ab1964-6f20-4306-844e-7846cc293019"
  }
 ],
 "nbformat": 4,
 "nbformat_minor": 5,
 "metadata": {
  "kernelspec": {
   "name": "python2",
   "display_name": "Python 2",
   "language": "python"
  },
  "language_info": {
   "name": "python",
   "codemirror_mode": {
    "name": "ipython",
    "version": "2"
   },
   "file_extension": ".py",
   "mimetype": "text/x-python",
   "nbconvert_exporter": "python",
   "pygments_lexer": "ipython2",
   "version": "2.7.15"
  }
 }
}
