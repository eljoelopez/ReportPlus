{
 "cells": [
  {
   "cell_type": "markdown",
   "id": "bfee610a-3be9-41a0-ab33-a62f0e9df163",
   "metadata": {},
   "source": [
    "# Title\n",
    "\n",
    "## Subtitle\n",
    "\n",
    "Lorem Ipsum is simply dummy text of the printing and typesetting\n",
    "industry. Lorem Ipsum has been the industry’s standard dummy text ever\n",
    "since the 1500s, when an unknown printer took a galley of type and\n",
    "scrambled it to make a type specimen book. It has survived not only five\n",
    "centuries, but also the leap into electronic typesetting, remaining\n",
    "essentially unchanged. It was popularised in the 1960s with the release\n",
    "of Letraset sheets containing Lorem Ipsum passages, and more recently\n",
    "with desktop publishing software like Aldus PageMaker including versions\n",
    "of Lorem Ipsum.\n",
    "\n",
    "``` python\n",
    "import os\n",
    "\n",
    "print(\"Hello World\")\n",
    "```"
   ]
  },
  {
   "cell_type": "code",
   "execution_count": 1,
   "id": "d8c40acf",
   "metadata": {},
   "outputs": [
    {
     "name": "stdout",
     "output_type": "stream",
     "text": [
      "Hello World\n"
     ]
    }
   ],
   "source": [
    "import os\n",
    "\n",
    "print(\"Hello World\")"
   ]
  },
  {
   "cell_type": "markdown",
   "id": "691f21f8",
   "metadata": {},
   "source": [
    "<iframe src=\"https://speckle.xyz/embed?stream=ccff754389&object=9b2c4b1b9c19f6b1620cb293c14e8a89&overlay=bf728923c581cb46ee6a11fc07b56dbe%2C43b490e7ec77dd0527c5663b7e7021c7&transparent=true&autoload=true&hidecontrols=true&hidesidebar=true\" width=\"600\" height=\"400\" frameborder=\"0\"></iframe>"
   ]
  },
  {
   "cell_type": "markdown",
   "id": "450d792c",
   "metadata": {},
   "source": [
    "To display multiple elements in the same viwer add a `overlay=`key seperated by `&` and then add the id semerated `%`\n",
    "\n",
    "Example: \n",
    "`object=9b2c4b1b9c19f6b1620cb293c14e8a89&overlay=bf728923c581cb46ee6a11fc07b56dbe%2C43b490e7ec77dd0527c5663b7e7021c7`"
   ]
  },
  {
   "cell_type": "markdown",
   "id": "3ed9e049",
   "metadata": {},
   "source": []
  }
 ],
 "metadata": {
  "kernelspec": {
   "display_name": "base",
   "language": "python",
   "name": "python3"
  },
  "language_info": {
   "codemirror_mode": {
    "name": "ipython",
    "version": 3
   },
   "file_extension": ".py",
   "mimetype": "text/x-python",
   "name": "python",
   "nbconvert_exporter": "python",
   "pygments_lexer": "ipython3",
   "version": "3.10.13"
  }
 },
 "nbformat": 4,
 "nbformat_minor": 5
}
