{
 "cells": [
  {
   "cell_type": "markdown",
   "metadata": {},
   "source": [
    "\n",
    "\n",
    "| ID                 | Room number |\tName\t     | Target area\t| Zone | Room Type   |\n",
    "| ------------------ | ----------- | --------------- | ------------ | ---- | ----------- | \n",
    "| f98b0c7a-02e7-4da0 | R001        | School Class_1\t | 52\t        |\t1  | Classroom   |\n",
    "| 20a23d63-b0c5-449f | R002        | School Class_2\t | 47\t        |\t1  | Classroom   |\n",
    "| 58271a89-863c-443b | R003        | School Class_3\t | 52\t        |\t2  | Classroom   |\n",
    "|6fc499af-6c43-4424\t | R004        | School Class_4\t | 74\t        |\t2  | Classroom   |\n",
    "|e1cd4dae-1b63-4203\t | R005        | School Class_5\t | 45\t        |\t3  | Classroom   |\n",
    "|fc50ce57-a735-4b8f\t | R006        | School Class_6\t | 44\t        |\t3  | Classroom   |\n",
    "|321eef0e-1f19-4564\t | R007        | Bathroom\t     | 65\t        |\t4  | Utility     |\n",
    "|c22d02ef-79ee-411f\t | R008        | Kitchen\t     | 80\t        |\t4  | Utility     |\n",
    "|7e392bb8-98ec-4732\t | R009        | Circulation\t | 90\t        |\t5  | Circulation |\n"
   ]
  }
 ],
 "metadata": {
  "language_info": {
   "name": "python"
  },
  "orig_nbformat": 4
 },
 "nbformat": 4,
 "nbformat_minor": 2
}
